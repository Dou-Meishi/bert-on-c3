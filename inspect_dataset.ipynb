{
 "cells": [
  {
   "cell_type": "markdown",
   "metadata": {},
   "source": [
    "# Prerequisites"
   ]
  },
  {
   "cell_type": "code",
   "execution_count": 1,
   "metadata": {},
   "outputs": [],
   "source": [
    "import json\n",
    "import os\n",
    "import random\n",
    "\n",
    "import matplotlib.pyplot as plt\n",
    "import numpy as np\n",
    "import pandas as pd\n",
    "\n",
    "# package in . directory\n",
    "from bichoice import utils"
   ]
  },
  {
   "cell_type": "code",
   "execution_count": 2,
   "metadata": {},
   "outputs": [],
   "source": [
    "# declare a namespace\n",
    "D = utils.GlobalSettings({\n",
    "        'DATADIR': './data/',\n",
    "        'OUTDIR': './outputs/csv-data/',\n",
    "    })\n",
    "\n",
    "if not os.path.exists(D.OUTDIR):\n",
    "    os.makedirs(D.OUTDIR)"
   ]
  },
  {
   "cell_type": "markdown",
   "metadata": {},
   "source": [
    "# Check Some Examples"
   ]
  },
  {
   "cell_type": "code",
   "execution_count": 3,
   "metadata": {},
   "outputs": [],
   "source": [
    "train_m = utils.get_all_C3examples(os.path.join(D.DATADIR, 'c3-m-train.json'))\n",
    "train_d = utils.get_all_C3examples(os.path.join(D.DATADIR, 'c3-d-train.json'))"
   ]
  },
  {
   "cell_type": "code",
   "execution_count": 4,
   "metadata": {},
   "outputs": [],
   "source": [
    "def show_c3_example(e):\n",
    "    '''show all info of a single example in C3'''\n",
    "    print('-----PASSAGE-----')\n",
    "    print('\\n'.join(e.sentences))\n",
    "    print('-----QUESTION-----')\n",
    "    print(e.question)\n",
    "    print('-----OPTIONS-----')\n",
    "    for i, o in enumerate(e.options):\n",
    "        print('    {}: {}'.format(chr(i+ord('A')), o))\n",
    "    print('-----ANSWER-----')\n",
    "    l = e.label\n",
    "    print('    {}: {}'.format(chr(l+ord('A')), e.options[l]))"
   ]
  },
  {
   "cell_type": "code",
   "execution_count": 5,
   "metadata": {},
   "outputs": [
    {
     "name": "stdout",
     "output_type": "stream",
     "text": [
      "-----PASSAGE-----\n",
      "亲子活动是指，父母陪着孩子在假期参加一些社团或者企业组织的一些有益于儿童成长的活动，促进孩子与父母的关系，让孩子结识更多的好朋友。通过活动锻炼孩子参与探索的性格，能让孩子在少年时期，身心健康发展。\n",
      "当前，随着我国改革开放和市场经济的深入发展及独生子女政策的实行，我国的家庭亲子关系正在发生急剧的变化，特别是青少年在这个多元化环境中有着显著变化。有研究表明：青少年期是人生中最关键而又有特色的时期，是依恋与独立两种倾向暂时冲突和对立的阶段。而许多的父母都没有或缺乏主动意识去调适与青少年子女的关系。许多父母，或多或少地面对过一种困惑，不知道为什么自己正确的意见与建议，却不能被孩子接受。而不少青少年学生在面对父母烦琐的教导时，则表现出较强的叛逆性格。而且工作压力大，很多家长没什么时间陪孩子，导致亲子间出现距离，这是父母所不乐见的。多参加亲子活动，能够让家长和孩子共同参与，相互合作完成活动内容，进而拉近彼此的关系。亲子活动的意义不仅能让孩子和父母更亲近，还能帮助孩子成长，让孩子结识更多的好朋友。\n",
      "-----QUESTION-----\n",
      "亲子活动能够：\n",
      "-----OPTIONS-----\n",
      "    A: 让孩子一生都身心健康\n",
      "    B: 能够减少孩子和父母之间的矛盾\n",
      "    C: 给孩子提出指导和意见\n",
      "    D: 改变孩子的性格\n",
      "-----ANSWER-----\n",
      "    B: 能够减少孩子和父母之间的矛盾\n"
     ]
    }
   ],
   "source": [
    "show_c3_example(random.choice(train_m))"
   ]
  },
  {
   "cell_type": "code",
   "execution_count": 6,
   "metadata": {},
   "outputs": [
    {
     "name": "stdout",
     "output_type": "stream",
     "text": [
      "-----PASSAGE-----\n",
      "女：今天本栏目邀请的嘉宾是中国人事科学研究院副研究员、中国国际人才开发与交流研究会理事李建钟先生。\n",
      "男：主持人好!大家好!\n",
      "女：您说过：“人才流动不仅是人口在地理空间上的重新分布，更是人力资本在世界范围内的重新配置和组合。”今天我们想了解的首要问题是：近年来，人才资源配置在全球范围内出现了什么新的趋向?\n",
      "男：有三个新趋势是明显的。一是新兴国家，也就是发展势头在上升阶段的国家和地区，前些年外流的专家及技术人员开始“回归”；二是一些新兴国家和发展中国家，千方百计从全球吸引人才，正在努力从原来的人才“输出国”变为人才“进口国”；三是资本流动对人才流动产生了越来越大的影响。\n",
      "女：是什么引导了当前的人才流动呢?\n",
      "男：随着经济全球化的发展，企业都在拓展国外业务，其管理团队就必然会到相应的地区。新的投资地区由此也就成了相应的人才集中地。另外，资本流动也引导了人才流动。这种流动对管理知识等的传播影响深远。\n",
      "女：这是否说明了人才的流向正在发生彻底的变化?\n",
      "男：目前大概还不能下这样的结论。人才的全球流动受多种因素的影响。在全球总体经济、政治和收入分配格局没有发生大的变化的前提下，目前人才流动的大趋势并没有发生根本性的变化。\n",
      "女：人才流总体流向有哪些特点呢?\n",
      "男：发达国家和地区仍然保持着强大的人才吸引力。从大的趋势来看，人才流向的最终点仍是在美国，而中间站则是欧盟国家。在东亚地区，则是人才由中国流向日本、韩国、新加坡等国家。\n",
      "女：对目前人才流失的状况，有一些担忧的声音，您怎么看?\n",
      "男：各国对人才流动都从早期的普遍干涉，发展到后来的放松管制，再到倡导自由流动。“请进来”和“走出去”已经成为世界的潮流。事实上，劳动力的流动率，相对于资本、技术而言，是远远落后的。因此，有必要促进人才流动，对其权利给予保障，实行开放的政策。\n",
      "-----QUESTION-----\n",
      "目前人才流动的大趋势是什么?\n",
      "-----OPTIONS-----\n",
      "    A: 总体流向亚洲\n",
      "    B: 总体流向发达国家\n",
      "    C: 总体流向新兴国家\n",
      "    D: 已经发生了根本变化\n",
      "-----ANSWER-----\n",
      "    B: 总体流向发达国家\n"
     ]
    }
   ],
   "source": [
    "show_c3_example(random.choice(train_d))"
   ]
  },
  {
   "cell_type": "markdown",
   "metadata": {},
   "source": [
    "# Some Statistics"
   ]
  },
  {
   "cell_type": "code",
   "execution_count": 7,
   "metadata": {},
   "outputs": [
    {
     "name": "stdout",
     "output_type": "stream",
     "text": [
      "statistics of C3\n"
     ]
    },
    {
     "data": {
      "text/html": [
       "<div>\n",
       "<style scoped>\n",
       "    .dataframe tbody tr th:only-of-type {\n",
       "        vertical-align: middle;\n",
       "    }\n",
       "\n",
       "    .dataframe tbody tr th {\n",
       "        vertical-align: top;\n",
       "    }\n",
       "\n",
       "    .dataframe thead th {\n",
       "        text-align: right;\n",
       "    }\n",
       "</style>\n",
       "<table border=\"1\" class=\"dataframe\">\n",
       "  <thead>\n",
       "    <tr style=\"text-align: right;\">\n",
       "      <th></th>\n",
       "      <th>doc length</th>\n",
       "      <th>qas length</th>\n",
       "      <th>num of opts</th>\n",
       "    </tr>\n",
       "  </thead>\n",
       "  <tbody>\n",
       "    <tr>\n",
       "      <th>count</th>\n",
       "      <td>11869.000000</td>\n",
       "      <td>11869.000000</td>\n",
       "      <td>11869.000000</td>\n",
       "    </tr>\n",
       "    <tr>\n",
       "      <th>mean</th>\n",
       "      <td>222.263207</td>\n",
       "      <td>12.264555</td>\n",
       "      <td>3.788609</td>\n",
       "    </tr>\n",
       "    <tr>\n",
       "      <th>std</th>\n",
       "      <td>231.829301</td>\n",
       "      <td>4.165166</td>\n",
       "      <td>0.509814</td>\n",
       "    </tr>\n",
       "    <tr>\n",
       "      <th>min</th>\n",
       "      <td>10.000000</td>\n",
       "      <td>3.000000</td>\n",
       "      <td>2.000000</td>\n",
       "    </tr>\n",
       "    <tr>\n",
       "      <th>25%</th>\n",
       "      <td>48.000000</td>\n",
       "      <td>9.000000</td>\n",
       "      <td>4.000000</td>\n",
       "    </tr>\n",
       "    <tr>\n",
       "      <th>50%</th>\n",
       "      <td>96.000000</td>\n",
       "      <td>12.000000</td>\n",
       "      <td>4.000000</td>\n",
       "    </tr>\n",
       "    <tr>\n",
       "      <th>75%</th>\n",
       "      <td>349.000000</td>\n",
       "      <td>14.000000</td>\n",
       "      <td>4.000000</td>\n",
       "    </tr>\n",
       "    <tr>\n",
       "      <th>max</th>\n",
       "      <td>1540.000000</td>\n",
       "      <td>56.000000</td>\n",
       "      <td>4.000000</td>\n",
       "    </tr>\n",
       "  </tbody>\n",
       "</table>\n",
       "</div>"
      ],
      "text/plain": [
       "         doc length    qas length   num of opts\n",
       "count  11869.000000  11869.000000  11869.000000\n",
       "mean     222.263207     12.264555      3.788609\n",
       "std      231.829301      4.165166      0.509814\n",
       "min       10.000000      3.000000      2.000000\n",
       "25%       48.000000      9.000000      4.000000\n",
       "50%       96.000000     12.000000      4.000000\n",
       "75%      349.000000     14.000000      4.000000\n",
       "max     1540.000000     56.000000      4.000000"
      ]
     },
     "execution_count": 7,
     "metadata": {},
     "output_type": "execute_result"
    }
   ],
   "source": [
    "print('statistics of C3')\n",
    "train = train_m + train_d\n",
    "train_stats_df = pd.DataFrame({\n",
    "    'doc length': [len(''.join(e.sentences)) for e in train],\n",
    "    'qas length': [len(e.question) for e in train],\n",
    "    'num of opts': [len(e.options) for e in train],\n",
    "})\n",
    "train_stats_df.describe()"
   ]
  },
  {
   "cell_type": "markdown",
   "metadata": {},
   "source": [
    "# RandomBot & CountBot"
   ]
  },
  {
   "cell_type": "code",
   "execution_count": 8,
   "metadata": {},
   "outputs": [],
   "source": [
    "def test_bot(bot, fn):\n",
    "    correct_examples = []\n",
    "    incorrect_examples = []\n",
    "    for e in utils.get_all_C3examples(fn):\n",
    "        pred = bot(e)\n",
    "        if pred == e.label:\n",
    "            correct_examples.append(e)\n",
    "        else:\n",
    "            incorrect_examples.append(e)\n",
    "    return correct_examples, incorrect_examples"
   ]
  },
  {
   "cell_type": "code",
   "execution_count": 9,
   "metadata": {},
   "outputs": [
    {
     "name": "stdout",
     "output_type": "stream",
     "text": [
      "-----Random Bot-----\n",
      "Acc on Dev:  27.2%\n",
      "Acc on Test: 27.4%\n"
     ]
    }
   ],
   "source": [
    "print('-----Random Bot-----')\n",
    "bot = utils.RandomBot()\n",
    "\n",
    "dev_acc = []\n",
    "for _ in range(10):\n",
    "    l1, l2 = test_bot(bot, os.path.join(D.DATADIR, 'c3-m-dev.json'))\n",
    "    l3, l4 = test_bot(bot, os.path.join(D.DATADIR, 'c3-d-dev.json'))\n",
    "    dev_acc.append(len(l1+l3)/len(l1+l2+l3+l4))\n",
    "\n",
    "test_acc = []\n",
    "for _ in range(10):\n",
    "    l1, l2 = test_bot(bot, os.path.join(D.DATADIR, 'c3-m-test.json'))\n",
    "    l3, l4 = test_bot(bot, os.path.join(D.DATADIR, 'c3-d-test.json'))\n",
    "    test_acc.append(len(l1+l3)/len(l1+l2+l3+l4))\n",
    "\n",
    "print('Acc on Dev:  {:.1%}'.format(np.mean(dev_acc)))\n",
    "print('Acc on Test: {:.1%}'.format(np.mean(test_acc)))"
   ]
  },
  {
   "cell_type": "code",
   "execution_count": 10,
   "metadata": {},
   "outputs": [
    {
     "name": "stdout",
     "output_type": "stream",
     "text": [
      "-----Count Bot-----\n",
      "Acc on Dev:  33.7%\n",
      "Acc on Test: 34.4%\n"
     ]
    }
   ],
   "source": [
    "print('-----Count Bot-----')\n",
    "bot = utils.CountBot()\n",
    "\n",
    "dev_acc = []\n",
    "for _ in range(10):\n",
    "    l1, l2 = test_bot(bot, os.path.join(D.DATADIR, 'c3-m-dev.json'))\n",
    "    l3, l4 = test_bot(bot, os.path.join(D.DATADIR, 'c3-d-dev.json'))\n",
    "    dev_acc.append(len(l1+l3)/len(l1+l2+l3+l4))\n",
    "\n",
    "test_acc = []\n",
    "for _ in range(10):\n",
    "    l1, l2 = test_bot(bot, os.path.join(D.DATADIR, 'c3-m-test.json'))\n",
    "    l3, l4 = test_bot(bot, os.path.join(D.DATADIR, 'c3-d-test.json'))\n",
    "    test_acc.append(len(l1+l3)/len(l1+l2+l3+l4))\n",
    "\n",
    "print('Acc on Dev:  {:.1%}'.format(np.mean(dev_acc)))\n",
    "print('Acc on Test: {:.1%}'.format(np.mean(test_acc)))"
   ]
  }
 ],
 "metadata": {
  "kernelspec": {
   "display_name": "Python 3",
   "language": "python",
   "name": "python3"
  },
  "language_info": {
   "codemirror_mode": {
    "name": "ipython",
    "version": 3
   },
   "file_extension": ".py",
   "mimetype": "text/x-python",
   "name": "python",
   "nbconvert_exporter": "python",
   "pygments_lexer": "ipython3",
   "version": "3.6.9"
  },
  "toc": {
   "base_numbering": 1,
   "nav_menu": {},
   "number_sections": false,
   "sideBar": true,
   "skip_h1_title": false,
   "title_cell": "Table of Contents",
   "title_sidebar": "Contents",
   "toc_cell": false,
   "toc_position": {},
   "toc_section_display": true,
   "toc_window_display": true
  }
 },
 "nbformat": 4,
 "nbformat_minor": 2
}

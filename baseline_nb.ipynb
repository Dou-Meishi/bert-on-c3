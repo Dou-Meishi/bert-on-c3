{
 "cells": [
  {
   "cell_type": "markdown",
   "metadata": {},
   "source": [
    "# Prerequisites"
   ]
  },
  {
   "cell_type": "code",
   "execution_count": 1,
   "metadata": {},
   "outputs": [],
   "source": [
    "import json\n",
    "import os\n",
    "import random\n",
    "\n",
    "import matplotlib.pyplot as plt\n",
    "import numpy as np\n",
    "import pandas as pd\n",
    "import torch\n",
    "from tqdm import tqdm\n",
    "import transformers\n",
    "\n",
    "# package in . directory\n",
    "from bichoice import utils\n",
    "from baseline.model import BertForClassification\n",
    "from baseline.data_processor import DataProcessor"
   ]
  },
  {
   "cell_type": "code",
   "execution_count": 28,
   "metadata": {},
   "outputs": [
    {
     "name": "stdout",
     "output_type": "stream",
     "text": [
      "this model is trained with following hyper parameters:\n",
      "{\n",
      "    \"model_name\": \"bert-base-chinese\",\n",
      "    \"data_dir\": \"../data/c3_data/\",\n",
      "    \"max_length\": 512,\n",
      "    \"num_train_epochs\": 8,\n",
      "    \"train_batch_size\": 4,\n",
      "    \"eval_batch_size\": 16,\n",
      "    \"learning_rate\": 2e-05,\n",
      "    \"gradient_accumulation_steps\": 6,\n",
      "    \"num_warmup_steps\": 500,\n",
      "    \"max_grad_norm\": 1.0,\n",
      "    \"n_class\": 4,\n",
      "    \"fp16\": 1,\n",
      "    \"seed\": 42,\n",
      "    \"save_dir\": \"../output/checkpoints/\",\n",
      "    \"output_dir\": \"../output/outputs/\",\n",
      "    \"log_dir\": \"../output/logs\"\n",
      "}\n"
     ]
    }
   ],
   "source": [
    "assert transformers.__version__ == '4.1.1'\n",
    "\n",
    "# declare a namespace\n",
    "D = utils.GlobalSettings({\n",
    "        'DATADIR': './data/',\n",
    "        # select checkpoint-7\n",
    "        'MODELDIR': './outputs/baseline_output/checkpoint-7/',\n",
    "    })\n",
    "\n",
    "# load training parameters\n",
    "argD = utils.GlobalSettings(\n",
    "    torch.load(os.path.join(D.MODELDIR, 'training_args.bin')))\n",
    "print('this model is trained with following hyper parameters:')\n",
    "print(str(argD))"
   ]
  },
  {
   "cell_type": "markdown",
   "metadata": {},
   "source": [
    "# Show Some Examples"
   ]
  },
  {
   "cell_type": "code",
   "execution_count": 29,
   "metadata": {},
   "outputs": [],
   "source": [
    "processor = DataProcessor(D.DATADIR)\n",
    "tokenizer = transformers.BertTokenizer.from_pretrained(argD.model_name)\n",
    "train = processor.dataset[0]\n",
    "# select a literal example from train set\n",
    "train_e = random.choice(train)"
   ]
  },
  {
   "cell_type": "code",
   "execution_count": 18,
   "metadata": {},
   "outputs": [],
   "source": [
    "def show_baseline_example(e):\n",
    "    '''show all info of a single `baseline.InputExample` object`'''\n",
    "    print('text_a:')\n",
    "    print('    ', e.text_a)\n",
    "    print('text_b:')\n",
    "    print('    ', e.text_b)\n",
    "    print('text_c:')\n",
    "    print('    ', e.text_c)\n",
    "    print('label:', e.label)\n",
    "    print('guid:', e.guid)"
   ]
  },
  {
   "cell_type": "code",
   "execution_count": 19,
   "metadata": {},
   "outputs": [
    {
     "name": "stdout",
     "output_type": "stream",
     "text": [
      "-----EXAMPLE1-----\n",
      "text_a:\n",
      "     在很久很久以前，乌龟和兔子之间发生了争论，它们都说自己跑得比对方快。于是，它们决定通过比赛来一决胜负。确定了路线之后它们就开始跑了起来。兔子一个箭步冲到了前面，并且一路领先。它看到乌龟被远远抛在了后面，兔子觉得，自己应该先在树下休息一会儿。于是，它在树下坐了下来，并且很快睡着了。乌龟慢慢地超过了它，并且完成了整个赛程，开心地当上了冠军。后来，兔子醒了过来，发现自己输了。\n",
      "text_b:\n",
      "     它们之间发生了争执\n",
      "text_c:\n",
      "     乌龟和兔子为什么要进行比赛?\n",
      "label: 2\n",
      "guid: train-0-0\n",
      "-----EXAMPLE2-----\n",
      "text_a:\n",
      "     在很久很久以前，乌龟和兔子之间发生了争论，它们都说自己跑得比对方快。于是，它们决定通过比赛来一决胜负。确定了路线之后它们就开始跑了起来。兔子一个箭步冲到了前面，并且一路领先。它看到乌龟被远远抛在了后面，兔子觉得，自己应该先在树下休息一会儿。于是，它在树下坐了下来，并且很快睡着了。乌龟慢慢地超过了它，并且完成了整个赛程，开心地当上了冠军。后来，兔子醒了过来，发现自己输了。\n",
      "text_b:\n",
      "     它们的关系很不好\n",
      "text_c:\n",
      "     乌龟和兔子为什么要进行比赛?\n",
      "label: 2\n",
      "guid: train-0-1\n",
      "-----EXAMPLE3-----\n",
      "text_a:\n",
      "     在很久很久以前，乌龟和兔子之间发生了争论，它们都说自己跑得比对方快。于是，它们决定通过比赛来一决胜负。确定了路线之后它们就开始跑了起来。兔子一个箭步冲到了前面，并且一路领先。它看到乌龟被远远抛在了后面，兔子觉得，自己应该先在树下休息一会儿。于是，它在树下坐了下来，并且很快睡着了。乌龟慢慢地超过了它，并且完成了整个赛程，开心地当上了冠军。后来，兔子醒了过来，发现自己输了。\n",
      "text_b:\n",
      "     它们都认为自己跑得快\n",
      "text_c:\n",
      "     乌龟和兔子为什么要进行比赛?\n",
      "label: 2\n",
      "guid: train-0-2\n",
      "-----EXAMPLE4-----\n",
      "text_a:\n",
      "     在很久很久以前，乌龟和兔子之间发生了争论，它们都说自己跑得比对方快。于是，它们决定通过比赛来一决胜负。确定了路线之后它们就开始跑了起来。兔子一个箭步冲到了前面，并且一路领先。它看到乌龟被远远抛在了后面，兔子觉得，自己应该先在树下休息一会儿。于是，它在树下坐了下来，并且很快睡着了。乌龟慢慢地超过了它，并且完成了整个赛程，开心地当上了冠军。后来，兔子醒了过来，发现自己输了。\n",
      "text_b:\n",
      "     其他的动物要求它们比赛\n",
      "text_c:\n",
      "     乌龟和兔子为什么要进行比赛?\n",
      "label: 2\n",
      "guid: train-0-3\n"
     ]
    }
   ],
   "source": [
    "# create several baseline examples from `train_e`\n",
    "train_b_e = processor._create_examples([train_e], set_type='train')\n",
    "for i, e in enumerate(train_b_e):\n",
    "    print('-----EXAMPLE{}-----'.format(i+1))\n",
    "    show_baseline_example(e)"
   ]
  },
  {
   "cell_type": "markdown",
   "metadata": {},
   "source": [
    "# Tokenizing Examples"
   ]
  },
  {
   "cell_type": "code",
   "execution_count": 46,
   "metadata": {},
   "outputs": [],
   "source": [
    "def show_baseline_features(f):\n",
    "    '''show info of a single `baseline.InputFeatures` object'''\n",
    "    print('-----FIRST TOKEN SEQUENCE-----')\n",
    "    input_mask = np.asarray(f.input_mask)\n",
    "    input_ids = np.asarray(f.input_ids)[input_mask==1]\n",
    "    segment_ids = np.asarray(f.segment_ids)[input_mask==1]\n",
    "    first_sent = tokenizer.convert_ids_to_tokens(input_ids[segment_ids==0])\n",
    "    second_sent = tokenizer.convert_ids_to_tokens(input_ids[segment_ids==1])\n",
    "    print(''.join(first_sent))\n",
    "    print('-----SECOND TOKEN SEQUENCE-----')\n",
    "    print(''.join(second_sent))"
   ]
  },
  {
   "cell_type": "code",
   "execution_count": 48,
   "metadata": {},
   "outputs": [
    {
     "name": "stdout",
     "output_type": "stream",
     "text": [
      "#examples 4\n",
      "#features 1\n",
      "label: 2\n",
      "-----EXAMPLE1-----\n",
      "-----FIRST TOKEN SEQUENCE-----\n",
      "[CLS]在很久很久以前，乌龟和兔子之间发生了争论，它们都说自己跑得比对方快。于是，它们决定通过比赛来一决胜负。确定了路线之后它们就开始跑了起来。兔子一个箭步冲到了前面，并且一路领先。它看到乌龟被远远抛在了后面，兔子觉得，自己应该先在树下休息一会儿。于是，它在树下坐了下来，并且很快睡着了。乌龟慢慢地超过了它，并且完成了整个赛程，开心地当上了冠军。后来，兔子醒了过来，发现自己输了。[SEP]\n",
      "-----SECOND TOKEN SEQUENCE-----\n",
      "乌龟和兔子为什么要进行比赛?[SEP]它们之间发生了争执[SEP]\n",
      "-----EXAMPLE2-----\n",
      "-----FIRST TOKEN SEQUENCE-----\n",
      "[CLS]在很久很久以前，乌龟和兔子之间发生了争论，它们都说自己跑得比对方快。于是，它们决定通过比赛来一决胜负。确定了路线之后它们就开始跑了起来。兔子一个箭步冲到了前面，并且一路领先。它看到乌龟被远远抛在了后面，兔子觉得，自己应该先在树下休息一会儿。于是，它在树下坐了下来，并且很快睡着了。乌龟慢慢地超过了它，并且完成了整个赛程，开心地当上了冠军。后来，兔子醒了过来，发现自己输了。[SEP]\n",
      "-----SECOND TOKEN SEQUENCE-----\n",
      "乌龟和兔子为什么要进行比赛?[SEP]它们的关系很不好[SEP]\n",
      "-----EXAMPLE3-----\n",
      "-----FIRST TOKEN SEQUENCE-----\n",
      "[CLS]在很久很久以前，乌龟和兔子之间发生了争论，它们都说自己跑得比对方快。于是，它们决定通过比赛来一决胜负。确定了路线之后它们就开始跑了起来。兔子一个箭步冲到了前面，并且一路领先。它看到乌龟被远远抛在了后面，兔子觉得，自己应该先在树下休息一会儿。于是，它在树下坐了下来，并且很快睡着了。乌龟慢慢地超过了它，并且完成了整个赛程，开心地当上了冠军。后来，兔子醒了过来，发现自己输了。[SEP]\n",
      "-----SECOND TOKEN SEQUENCE-----\n",
      "乌龟和兔子为什么要进行比赛?[SEP]它们都认为自己跑得快[SEP]\n",
      "-----EXAMPLE4-----\n",
      "-----FIRST TOKEN SEQUENCE-----\n",
      "[CLS]在很久很久以前，乌龟和兔子之间发生了争论，它们都说自己跑得比对方快。于是，它们决定通过比赛来一决胜负。确定了路线之后它们就开始跑了起来。兔子一个箭步冲到了前面，并且一路领先。它看到乌龟被远远抛在了后面，兔子觉得，自己应该先在树下休息一会儿。于是，它在树下坐了下来，并且很快睡着了。乌龟慢慢地超过了它，并且完成了整个赛程，开心地当上了冠军。后来，兔子醒了过来，发现自己输了。[SEP]\n",
      "-----SECOND TOKEN SEQUENCE-----\n",
      "乌龟和兔子为什么要进行比赛?[SEP]其他的动物要求它们比赛[SEP]\n"
     ]
    }
   ],
   "source": [
    "train_f_e = processor.convert_examples_to_features(\n",
    "    train_b_e, argD.max_length, tokenizer)[0]\n",
    "print('label:', train_b_e[0].label)\n",
    "for i, f in enumerate(train_f_e):\n",
    "    print('-----EXAMPLE{}-----'.format(i+1))\n",
    "    show_baseline_features(f)"
   ]
  },
  {
   "cell_type": "markdown",
   "metadata": {},
   "source": [
    "# Infer with Baseline Model"
   ]
  },
  {
   "cell_type": "code",
   "execution_count": null,
   "metadata": {},
   "outputs": [],
   "source": []
  }
 ],
 "metadata": {
  "kernelspec": {
   "display_name": "Python 3",
   "language": "python",
   "name": "python3"
  },
  "language_info": {
   "codemirror_mode": {
    "name": "ipython",
    "version": 3
   },
   "file_extension": ".py",
   "mimetype": "text/x-python",
   "name": "python",
   "nbconvert_exporter": "python",
   "pygments_lexer": "ipython3",
   "version": "3.6.9"
  },
  "toc": {
   "base_numbering": 1,
   "nav_menu": {},
   "number_sections": false,
   "sideBar": true,
   "skip_h1_title": false,
   "title_cell": "Table of Contents",
   "title_sidebar": "Contents",
   "toc_cell": false,
   "toc_position": {},
   "toc_section_display": true,
   "toc_window_display": true
  }
 },
 "nbformat": 4,
 "nbformat_minor": 2
}

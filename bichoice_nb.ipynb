{
 "cells": [
  {
   "cell_type": "markdown",
   "metadata": {},
   "source": [
    "# Prerequisites"
   ]
  },
  {
   "cell_type": "code",
   "execution_count": 2,
   "metadata": {},
   "outputs": [],
   "source": [
    "import json\n",
    "import os\n",
    "import random\n",
    "\n",
    "import matplotlib.pyplot as plt\n",
    "import numpy as np\n",
    "import pandas as pd\n",
    "import torch\n",
    "from tqdm import tqdm\n",
    "import transformers\n",
    "\n",
    "# package in . directory\n",
    "from bichoice import utils\n",
    "from bichoice.data_processor import (\n",
    "    C3BinaryExample,\n",
    "    C3BinaryDataProcessor,\n",
    ")"
   ]
  },
  {
   "cell_type": "code",
   "execution_count": 24,
   "metadata": {},
   "outputs": [],
   "source": [
    "assert transformers.__version__ == '4.1.1'\n",
    "\n",
    "# declare a namespace\n",
    "D = utils.GlobalSettings({\n",
    "        'DATADIR': './data/',\n",
    "        'OUTDIR': './outputs/csv-data/',\n",
    "        'MODELDIR': './outputs/bichoice_output/checkpoint-3/',\n",
    "    })\n",
    "\n",
    "if not os.path.exists(D.OUTDIR):\n",
    "    os.makedirs(D.OUTDIR)"
   ]
  },
  {
   "cell_type": "markdown",
   "metadata": {},
   "source": [
    "# Reshape C3 as Binary Classification"
   ]
  },
  {
   "cell_type": "code",
   "execution_count": 5,
   "metadata": {},
   "outputs": [],
   "source": [
    "def C3Example_to_C3BinaryExample(eList):\n",
    "    '''\n",
    "    create `C3BinaryExample`s from `C3Example`s.\n",
    "    \n",
    "    Args\n",
    "    ----\n",
    "    `eList` : a list of `bichoice.utils.C3Example`\n",
    "    \n",
    "    Return\n",
    "    ------\n",
    "    `out` : a list of `bichioce.data_processor.C3BinaryExample`.\n",
    "    '''\n",
    "    out = []\n",
    "    for e in eList:\n",
    "        passage = ''.join(e.sentences)\n",
    "        question = e.question\n",
    "        answer = e.options[e.label]\n",
    "        for o in e.options:\n",
    "            if o == answer:\n",
    "                continue\n",
    "            out.append(C3BinaryExample(passage, question, answer, o, 0))\n",
    "            out.append(C3BinaryExample(passage, question, o, answer, 1))\n",
    "    return out"
   ]
  },
  {
   "cell_type": "code",
   "execution_count": 6,
   "metadata": {},
   "outputs": [],
   "source": [
    "def C3BinaryExamples_to_dataframe(eList):\n",
    "    '''\n",
    "    convert a list of `C3BinaryExample` to `pandas.DataFrame`\n",
    "    \n",
    "    Args\n",
    "    ----\n",
    "    `eList` : a list of `C3BinaryExample`\n",
    "    \n",
    "    Return\n",
    "    ------\n",
    "    `out` : `pandas.DataFrame` \n",
    "    '''\n",
    "    out = {\n",
    "        'passage': [e.passage for e in eList],\n",
    "        'question': [e.question for e in eList],\n",
    "        'choice_0': [e.choice_0 for e in eList],\n",
    "        'choice_1': [e.choice_1 for e in eList],\n",
    "        'label': [e.label for e in eList],\n",
    "    }\n",
    "    return pd.DataFrame(out)"
   ]
  },
  {
   "cell_type": "code",
   "execution_count": 7,
   "metadata": {},
   "outputs": [],
   "source": [
    "train = utils.get_all_C3examples(os.path.join(D.DATADIR, 'c3-m-train.json'))\n",
    "train+= utils.get_all_C3examples(os.path.join(D.DATADIR, 'c3-d-train.json'))\n",
    "\n",
    "valid = utils.get_all_C3examples(os.path.join(D.DATADIR, 'c3-m-dev.json'))\n",
    "valid+= utils.get_all_C3examples(os.path.join(D.DATADIR, 'c3-d-dev.json'))\n",
    "\n",
    "test = utils.get_all_C3examples(os.path.join(D.DATADIR, 'c3-m-test.json'))\n",
    "test+= utils.get_all_C3examples(os.path.join(D.DATADIR, 'c3-d-test.json'))"
   ]
  },
  {
   "cell_type": "code",
   "execution_count": 8,
   "metadata": {},
   "outputs": [],
   "source": [
    "bi_train_df = C3BinaryExamples_to_dataframe(C3Example_to_C3BinaryExample(train))\n",
    "bi_valid_df = C3BinaryExamples_to_dataframe(C3Example_to_C3BinaryExample(valid))\n",
    "bi_test_df = C3BinaryExamples_to_dataframe(C3Example_to_C3BinaryExample(test))"
   ]
  },
  {
   "cell_type": "code",
   "execution_count": 14,
   "metadata": {},
   "outputs": [
    {
     "name": "stdout",
     "output_type": "stream",
     "text": [
      "-----BEFORE RESHAPING-----\n",
      "#examples of train 11869\n",
      "#examples of validation 3816\n",
      "#examples of test 3892\n",
      "-----AFTER RESHAPING-----\n",
      "#examples of train 66192\n",
      "#examples of validation 21286\n",
      "#examples of test 21626\n"
     ]
    }
   ],
   "source": [
    "print('-----BEFORE RESHAPING-----')\n",
    "print('#examples of train', len(train))\n",
    "print('#examples of validation', len(valid))\n",
    "print('#examples of test', len(test))\n",
    "\n",
    "print('-----AFTER RESHAPING-----')\n",
    "print('#examples of train', len(bi_train_df))\n",
    "print('#examples of validation', len(bi_valid_df))\n",
    "print('#examples of test', len(bi_test_df))"
   ]
  },
  {
   "cell_type": "code",
   "execution_count": 18,
   "metadata": {},
   "outputs": [],
   "source": [
    "def show_c3_binary_example(e):\n",
    "    '''show all info of a single `C3BinaryExample`'''\n",
    "    print('-----PASSAGE-----')\n",
    "    print(e.passage)\n",
    "    print('-----QUESTION-----')\n",
    "    print(e.question)\n",
    "    print('-----CHOICE_0-----')\n",
    "    print(e.choice_0)\n",
    "    print('-----CHOICE_1-----')\n",
    "    print(e.choice_1)\n",
    "    print('-----LABEL-----')\n",
    "    print(e.label)"
   ]
  },
  {
   "cell_type": "code",
   "execution_count": 21,
   "metadata": {},
   "outputs": [
    {
     "name": "stdout",
     "output_type": "stream",
     "text": [
      "-----PASSAGE-----\n",
      "2010年12月升空的美国的“发现号”航天飞机里面除了6名航天员外，还有一位与航天员十分相似的机器人——“机器人航天员2”。虽然一些简单的老式机器人，如月球、火星的探测器早已参加到太空探索的行列中，并且依然是太空探测的主力军，但像“机器人航天员2”这种人形的机器人的升空则是人类的第一次。\n",
      "“机器人航天员2”昵称R2，它的外形十分像人，有头、臂和躯干，是美国国家航空航天局和通用汽车公司联合研制的仿真机器人，造价250万美元。它集各种先进控制、传感和视觉等技术于一身，并且其接口不需要做任何调整就可以与空间站上的各项设施连接。它可以使用所有航天员使用的工具，协助太空人处理一些枯燥或危险的作业，节省太空人的时间和保证太空人的安全。目前R2只能在实验室中工作，未来提升功能后，将能在空间站内四处移动和进行太空行走。\n",
      "尽管机器人航天员的面世令人感到欣喜，但与人类航天员相比，其能力还是十分有限。因此，机器人航天员不是替代人类，而是作为航天员的出色“同伴”，辅助人类一起承载航天任务中的重要职责。\n",
      "-----QUESTION-----\n",
      "根据文章我们可以知道：\n",
      "-----CHOICE_0-----\n",
      "R2将会辅助人类做好航天任务中的重要工作\n",
      "-----CHOICE_1-----\n",
      "R2即将取代老式机器人成为太空探测的主力军\n",
      "-----LABEL-----\n",
      "0\n"
     ]
    }
   ],
   "source": [
    "show_c3_binary_example(bi_train_df.loc[random.choice(bi_train_df.index)])"
   ]
  },
  {
   "cell_type": "code",
   "execution_count": 23,
   "metadata": {},
   "outputs": [],
   "source": [
    "# save reshaped dataset\n",
    "bi_train_df.to_csv(os.path.join(D.OUTDIR, 'binary-train.csv'),\n",
    "                    index=False, encoding='utf-8')\n",
    "bi_valid_df.to_csv(os.path.join(D.OUTDIR, 'binary-dev.csv'),\n",
    "                    index=False, encoding='utf-8')\n",
    "bi_train_df.to_csv(os.path.join(D.OUTDIR, 'binary-test.csv'),\n",
    "                    index=False, encoding='utf-8')"
   ]
  },
  {
   "cell_type": "markdown",
   "metadata": {},
   "source": [
    "# Load Fine-tuned Model"
   ]
  },
  {
   "cell_type": "code",
   "execution_count": null,
   "metadata": {},
   "outputs": [],
   "source": [
    "if not os.path.exists()"
   ]
  }
 ],
 "metadata": {
  "kernelspec": {
   "display_name": "Python 3",
   "language": "python",
   "name": "python3"
  },
  "language_info": {
   "codemirror_mode": {
    "name": "ipython",
    "version": 3
   },
   "file_extension": ".py",
   "mimetype": "text/x-python",
   "name": "python",
   "nbconvert_exporter": "python",
   "pygments_lexer": "ipython3",
   "version": "3.6.9"
  },
  "toc": {
   "base_numbering": 1,
   "nav_menu": {},
   "number_sections": false,
   "sideBar": true,
   "skip_h1_title": false,
   "title_cell": "Table of Contents",
   "title_sidebar": "Contents",
   "toc_cell": false,
   "toc_position": {},
   "toc_section_display": true,
   "toc_window_display": true
  }
 },
 "nbformat": 4,
 "nbformat_minor": 2
}
